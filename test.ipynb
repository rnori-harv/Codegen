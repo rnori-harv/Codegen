{
 "cells": [
  {
   "cell_type": "code",
   "execution_count": 20,
   "metadata": {},
   "outputs": [],
   "source": [
    "import tensorflow as tf\n",
    "import openai\n",
    "import os\n",
    "from dotenv import load_dotenv\n",
    "from langchain.prompts import PromptTemplate\n",
    "from langchain.llms import OpenAI\n",
    "from langchain.chains import LLMChain\n",
    "from langchain.agents import load_tools\n",
    "from langchain.agents import initialize_agent\n",
    "from langchain.llms import OpenAI"
   ]
  },
  {
   "cell_type": "code",
   "execution_count": 28,
   "metadata": {},
   "outputs": [
    {
     "name": "stderr",
     "output_type": "stream",
     "text": [
      "WARNING! api_key is not default parameter.\n",
      "                    api_key was transferred to model_kwargs.\n",
      "                    Please confirm that api_key is what you intended.\n"
     ]
    }
   ],
   "source": [
    "load_dotenv()\n",
    "openai.key = os.environ[\"OPENAI_API_KEY\"]\n",
    "llm = OpenAI(temperature=0.1, api_key=os.environ[\"OPENAI_API_KEY\"])"
   ]
  },
  {
   "cell_type": "code",
   "execution_count": 38,
   "metadata": {},
   "outputs": [],
   "source": [
    "tools = load_tools([\"serpapi\"], llm=llm)\n",
    "agent = initialize_agent(tools, llm, verbose=True)"
   ]
  },
  {
   "attachments": {},
   "cell_type": "markdown",
   "metadata": {},
   "source": []
  },
  {
   "cell_type": "code",
   "execution_count": 25,
   "metadata": {},
   "outputs": [],
   "source": [
    "\n",
    "tools = load_tools([\"serpapi\"], llm=llm)"
   ]
  },
  {
   "cell_type": "code",
   "execution_count": 45,
   "metadata": {},
   "outputs": [],
   "source": [
    "agent = initialize_agent(tools, llm, verbose=False)"
   ]
  },
  {
   "cell_type": "code",
   "execution_count": 46,
   "metadata": {},
   "outputs": [],
   "source": [
    "def google_search(query):\n",
    "    search_tool = agent.get_tool(\"Search\")\n",
    "    search_results = search_tool(query)\n",
    "    return search_results"
   ]
  },
  {
   "cell_type": "code",
   "execution_count": 44,
   "metadata": {},
   "outputs": [
    {
     "name": "stdout",
     "output_type": "stream",
     "text": [
      "\n",
      "\n",
      "\u001b[1m> Entering new  chain...\u001b[0m\n",
      "\u001b[32;1m\u001b[1;3m I need to find a tutorial\n",
      "Action: Search\n",
      "Action Input: \"tensorflow neural network tutorial\"\u001b[0m\n",
      "Observation: \u001b[36;1m\u001b[1;3mThis short introduction uses Keras to: Load a prebuilt dataset. Build a neural network machine learning model that classifies images.\u001b[0m\n",
      "Thought:\u001b[32;1m\u001b[1;3m I need to find a more detailed tutorial\n",
      "Action: Search\n",
      "Action Input: \"tensorflow neural network tutorial detailed\"\u001b[0m\n",
      "Observation: \u001b[36;1m\u001b[1;3mThis short introduction uses Keras to: Load a prebuilt dataset. Build a neural network machine learning model that classifies images.\u001b[0m\n",
      "Thought:\u001b[32;1m\u001b[1;3m I now know how to make a neural network using tensorflow\n",
      "Final Answer: To make a neural network using tensorflow, you need to use Keras to load a prebuilt dataset and build a neural network machine learning model that classifies images.\u001b[0m\n",
      "\n",
      "\u001b[1m> Finished chain.\u001b[0m\n"
     ]
    },
    {
     "data": {
      "text/plain": [
       "'To make a neural network using tensorflow, you need to use Keras to load a prebuilt dataset and build a neural network machine learning model that classifies images.'"
      ]
     },
     "execution_count": 44,
     "metadata": {},
     "output_type": "execute_result"
    }
   ],
   "source": [
    "agent.run(\"How to make a neural network using tensorflow\")"
   ]
  },
  {
   "cell_type": "code",
   "execution_count": null,
   "metadata": {},
   "outputs": [],
   "source": []
  }
 ],
 "metadata": {
  "kernelspec": {
   "display_name": "Python 3 (ipykernel)",
   "language": "python",
   "name": "python3"
  },
  "language_info": {
   "codemirror_mode": {
    "name": "ipython",
    "version": 3
   },
   "file_extension": ".py",
   "mimetype": "text/x-python",
   "name": "python",
   "nbconvert_exporter": "python",
   "pygments_lexer": "ipython3",
   "version": "3.10.9"
  }
 },
 "nbformat": 4,
 "nbformat_minor": 2
}
